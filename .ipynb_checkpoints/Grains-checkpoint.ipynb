{
 "cells": [
  {
   "cell_type": "markdown",
   "metadata": {},
   "source": [
    "## Introduction\n",
    "\n",
    "asdfl"
   ]
  },
  {
   "cell_type": "code",
   "execution_count": null,
   "metadata": {
    "collapsed": true
   },
   "outputs": [],
   "source": [
    "# insert map of something"
   ]
  },
  {
   "cell_type": "markdown",
   "metadata": {},
   "source": [
    "## Tutorial content\n",
    "This tutorial will show how to Grain data in the US. "
   ]
  },
  {
   "cell_type": "code",
   "execution_count": 1,
   "metadata": {
    "collapsed": true
   },
   "outputs": [],
   "source": [
    "import numpy as np\n",
    "import pandas as pd"
   ]
  },
  {
   "cell_type": "markdown",
   "metadata": {},
   "source": [
    "## Loading data\n",
    "Now that the necessary libraries are loaded, lets load the grain data. The data will be in csv format (comma separated values), which stores comma separated values for each cell element. No manual data reading or formatting is necessary as it can be easily parsed using pandas's method *read_csv*. \n",
    "\n",
    "Download the *FeedGrains.zip* file from the USDA Economic Research Service website: https://www.ers.usda.gov/data-products/feed-grains-database/feed-grains-yearbook-tables.aspx. Unzip the *FeedGrains.zip* file so *FeedGrains.csv* is in a *FeedGrains* folder. There's no real reason to put it in a separate folder since it's just one file, but why not. Copy the foder into the same folder as this notebook and load the data using the below command."
   ]
  },
  {
   "cell_type": "code",
   "execution_count": 7,
   "metadata": {},
   "outputs": [
    {
     "data": {
      "text/html": [
       "<div>\n",
       "<table border=\"1\" class=\"dataframe\">\n",
       "  <thead>\n",
       "    <tr style=\"text-align: right;\">\n",
       "      <th></th>\n",
       "      <th>SC_Group_ID</th>\n",
       "      <th>SC_Group_Desc</th>\n",
       "      <th>SC_GroupCommod_ID</th>\n",
       "      <th>SC_GroupCommod_Desc</th>\n",
       "      <th>SC_Geography_ID</th>\n",
       "      <th>SortOrder</th>\n",
       "      <th>SC_GeographyIndented_Desc</th>\n",
       "      <th>SC_Commodity_ID</th>\n",
       "      <th>SC_Commodity_Desc</th>\n",
       "      <th>SC_Attribute_ID</th>\n",
       "      <th>SC_Attribute_Desc</th>\n",
       "      <th>SC_Unit_ID</th>\n",
       "      <th>SC_Unit_Desc</th>\n",
       "      <th>Year_ID</th>\n",
       "      <th>SC_Frequency_ID</th>\n",
       "      <th>SC_Frequency_Desc</th>\n",
       "      <th>Timeperiod_ID</th>\n",
       "      <th>Timeperiod_Desc</th>\n",
       "      <th>Amount</th>\n",
       "    </tr>\n",
       "  </thead>\n",
       "  <tbody>\n",
       "    <tr>\n",
       "      <th>0</th>\n",
       "      <td>2</td>\n",
       "      <td>Supply and use</td>\n",
       "      <td>9.0</td>\n",
       "      <td>Barley</td>\n",
       "      <td>1</td>\n",
       "      <td>0.8</td>\n",
       "      <td>United States</td>\n",
       "      <td>1</td>\n",
       "      <td>Barley</td>\n",
       "      <td>1</td>\n",
       "      <td>Planted acreage</td>\n",
       "      <td>2</td>\n",
       "      <td>Million acres</td>\n",
       "      <td>1926</td>\n",
       "      <td>3</td>\n",
       "      <td>Annual</td>\n",
       "      <td>69</td>\n",
       "      <td>Commodity Market Year</td>\n",
       "      <td>8.796</td>\n",
       "    </tr>\n",
       "    <tr>\n",
       "      <th>1</th>\n",
       "      <td>2</td>\n",
       "      <td>Supply and use</td>\n",
       "      <td>9.0</td>\n",
       "      <td>Barley</td>\n",
       "      <td>1</td>\n",
       "      <td>0.8</td>\n",
       "      <td>United States</td>\n",
       "      <td>1</td>\n",
       "      <td>Barley</td>\n",
       "      <td>1</td>\n",
       "      <td>Planted acreage</td>\n",
       "      <td>2</td>\n",
       "      <td>Million acres</td>\n",
       "      <td>1927</td>\n",
       "      <td>3</td>\n",
       "      <td>Annual</td>\n",
       "      <td>69</td>\n",
       "      <td>Commodity Market Year</td>\n",
       "      <td>9.513</td>\n",
       "    </tr>\n",
       "    <tr>\n",
       "      <th>2</th>\n",
       "      <td>2</td>\n",
       "      <td>Supply and use</td>\n",
       "      <td>9.0</td>\n",
       "      <td>Barley</td>\n",
       "      <td>1</td>\n",
       "      <td>0.8</td>\n",
       "      <td>United States</td>\n",
       "      <td>1</td>\n",
       "      <td>Barley</td>\n",
       "      <td>1</td>\n",
       "      <td>Planted acreage</td>\n",
       "      <td>2</td>\n",
       "      <td>Million acres</td>\n",
       "      <td>1928</td>\n",
       "      <td>3</td>\n",
       "      <td>Annual</td>\n",
       "      <td>69</td>\n",
       "      <td>Commodity Market Year</td>\n",
       "      <td>12.828</td>\n",
       "    </tr>\n",
       "    <tr>\n",
       "      <th>3</th>\n",
       "      <td>2</td>\n",
       "      <td>Supply and use</td>\n",
       "      <td>9.0</td>\n",
       "      <td>Barley</td>\n",
       "      <td>1</td>\n",
       "      <td>0.8</td>\n",
       "      <td>United States</td>\n",
       "      <td>1</td>\n",
       "      <td>Barley</td>\n",
       "      <td>1</td>\n",
       "      <td>Planted acreage</td>\n",
       "      <td>2</td>\n",
       "      <td>Million acres</td>\n",
       "      <td>1929</td>\n",
       "      <td>3</td>\n",
       "      <td>Annual</td>\n",
       "      <td>69</td>\n",
       "      <td>Commodity Market Year</td>\n",
       "      <td>14.703</td>\n",
       "    </tr>\n",
       "    <tr>\n",
       "      <th>4</th>\n",
       "      <td>2</td>\n",
       "      <td>Supply and use</td>\n",
       "      <td>9.0</td>\n",
       "      <td>Barley</td>\n",
       "      <td>1</td>\n",
       "      <td>0.8</td>\n",
       "      <td>United States</td>\n",
       "      <td>1</td>\n",
       "      <td>Barley</td>\n",
       "      <td>1</td>\n",
       "      <td>Planted acreage</td>\n",
       "      <td>2</td>\n",
       "      <td>Million acres</td>\n",
       "      <td>1930</td>\n",
       "      <td>3</td>\n",
       "      <td>Annual</td>\n",
       "      <td>69</td>\n",
       "      <td>Commodity Market Year</td>\n",
       "      <td>13.581</td>\n",
       "    </tr>\n",
       "  </tbody>\n",
       "</table>\n",
       "</div>"
      ],
      "text/plain": [
       "   SC_Group_ID   SC_Group_Desc  SC_GroupCommod_ID SC_GroupCommod_Desc  \\\n",
       "0            2  Supply and use                9.0              Barley   \n",
       "1            2  Supply and use                9.0              Barley   \n",
       "2            2  Supply and use                9.0              Barley   \n",
       "3            2  Supply and use                9.0              Barley   \n",
       "4            2  Supply and use                9.0              Barley   \n",
       "\n",
       "   SC_Geography_ID  SortOrder SC_GeographyIndented_Desc  SC_Commodity_ID  \\\n",
       "0                1        0.8             United States                1   \n",
       "1                1        0.8             United States                1   \n",
       "2                1        0.8             United States                1   \n",
       "3                1        0.8             United States                1   \n",
       "4                1        0.8             United States                1   \n",
       "\n",
       "  SC_Commodity_Desc  SC_Attribute_ID SC_Attribute_Desc  SC_Unit_ID  \\\n",
       "0            Barley                1   Planted acreage           2   \n",
       "1            Barley                1   Planted acreage           2   \n",
       "2            Barley                1   Planted acreage           2   \n",
       "3            Barley                1   Planted acreage           2   \n",
       "4            Barley                1   Planted acreage           2   \n",
       "\n",
       "    SC_Unit_Desc  Year_ID  SC_Frequency_ID SC_Frequency_Desc  Timeperiod_ID  \\\n",
       "0  Million acres     1926                3            Annual             69   \n",
       "1  Million acres     1927                3            Annual             69   \n",
       "2  Million acres     1928                3            Annual             69   \n",
       "3  Million acres     1929                3            Annual             69   \n",
       "4  Million acres     1930                3            Annual             69   \n",
       "\n",
       "         Timeperiod_Desc  Amount  \n",
       "0  Commodity Market Year   8.796  \n",
       "1  Commodity Market Year   9.513  \n",
       "2  Commodity Market Year  12.828  \n",
       "3  Commodity Market Year  14.703  \n",
       "4  Commodity Market Year  13.581  "
      ]
     },
     "execution_count": 7,
     "metadata": {},
     "output_type": "execute_result"
    }
   ],
   "source": [
    "df = pd.read_csv(\"FeedGrains/FeedGrains.csv\")\n",
    "df.head()"
   ]
  },
  {
   "cell_type": "markdown",
   "metadata": {},
   "source": [
    "As you can see, the column names are odd and meaningless without prior knowledge of the dataset. To help with that, here is a list describing what each column represents:\n",
    "\n",
    "| Column name               | Description |\n",
    "| :------------------------ | :--------- |\n",
    "| SC_Group_ID               | # ID of data group       |\n",
    "| SC_Group_Desc             | description of data group |\n",
    "| SC_GroupCommod_ID         | # ID of grain group |\n",
    "| SC_GroupCommod_Desc       | description of grain group |\n",
    "| SC_Geography_ID           | # ID of data location |\n",
    "| SortOrder                 | weighted sort order by country? unsure |\n",
    "| SC_GeographyIndented_Desc | description of location |\n",
    "| SC_Commodity_ID           | # ID of specific grain type |\n",
    "| SC_Commodity_Desc         | description of specific grain type |\n",
    "| SC_Attribute_ID           | # ID of data's attribute |\n",
    "| SC_Attribute_Desc         | description of data's attribute  |\n",
    "| SC_Unit_ID                | # ID of unit type |\n",
    "| SC_Unit_Desc              | description of unit type |\n",
    "| Year_ID                   | year the data represents |\n",
    "| SC_Frequency_ID           | # ID of frequency data is collected |\n",
    "| SC_Frequency_Desc         | description of frequency data is collected |\n",
    "| Timeperiod_ID             | # ID of timeperiod the data represents |\n",
    "| Timeperiod_Desc           | description of timeperiod the data represents |\n",
    "| Amount                    | amount of units describing the attribute for the given grain type |\n",
    "\n",
    "You probably realized that there are two columns describing each column (the ID and description). To make it easier to work with and shrink the width of the table, we will now delete all the 'duplicate' ID columns by using the code below. \n"
   ]
  },
  {
   "cell_type": "code",
   "execution_count": 8,
   "metadata": {},
   "outputs": [
    {
     "data": {
      "text/html": [
       "<div>\n",
       "<table border=\"1\" class=\"dataframe\">\n",
       "  <thead>\n",
       "    <tr style=\"text-align: right;\">\n",
       "      <th></th>\n",
       "      <th>SC_Group_Desc</th>\n",
       "      <th>SC_GroupCommod_Desc</th>\n",
       "      <th>SortOrder</th>\n",
       "      <th>SC_GeographyIndented_Desc</th>\n",
       "      <th>SC_Commodity_Desc</th>\n",
       "      <th>SC_Attribute_Desc</th>\n",
       "      <th>SC_Unit_Desc</th>\n",
       "      <th>Year_ID</th>\n",
       "      <th>SC_Frequency_Desc</th>\n",
       "      <th>Timeperiod_Desc</th>\n",
       "      <th>Amount</th>\n",
       "    </tr>\n",
       "  </thead>\n",
       "  <tbody>\n",
       "    <tr>\n",
       "      <th>0</th>\n",
       "      <td>Supply and use</td>\n",
       "      <td>Barley</td>\n",
       "      <td>0.8</td>\n",
       "      <td>United States</td>\n",
       "      <td>Barley</td>\n",
       "      <td>Planted acreage</td>\n",
       "      <td>Million acres</td>\n",
       "      <td>1926</td>\n",
       "      <td>Annual</td>\n",
       "      <td>Commodity Market Year</td>\n",
       "      <td>8.796</td>\n",
       "    </tr>\n",
       "    <tr>\n",
       "      <th>1</th>\n",
       "      <td>Supply and use</td>\n",
       "      <td>Barley</td>\n",
       "      <td>0.8</td>\n",
       "      <td>United States</td>\n",
       "      <td>Barley</td>\n",
       "      <td>Planted acreage</td>\n",
       "      <td>Million acres</td>\n",
       "      <td>1927</td>\n",
       "      <td>Annual</td>\n",
       "      <td>Commodity Market Year</td>\n",
       "      <td>9.513</td>\n",
       "    </tr>\n",
       "    <tr>\n",
       "      <th>2</th>\n",
       "      <td>Supply and use</td>\n",
       "      <td>Barley</td>\n",
       "      <td>0.8</td>\n",
       "      <td>United States</td>\n",
       "      <td>Barley</td>\n",
       "      <td>Planted acreage</td>\n",
       "      <td>Million acres</td>\n",
       "      <td>1928</td>\n",
       "      <td>Annual</td>\n",
       "      <td>Commodity Market Year</td>\n",
       "      <td>12.828</td>\n",
       "    </tr>\n",
       "    <tr>\n",
       "      <th>3</th>\n",
       "      <td>Supply and use</td>\n",
       "      <td>Barley</td>\n",
       "      <td>0.8</td>\n",
       "      <td>United States</td>\n",
       "      <td>Barley</td>\n",
       "      <td>Planted acreage</td>\n",
       "      <td>Million acres</td>\n",
       "      <td>1929</td>\n",
       "      <td>Annual</td>\n",
       "      <td>Commodity Market Year</td>\n",
       "      <td>14.703</td>\n",
       "    </tr>\n",
       "    <tr>\n",
       "      <th>4</th>\n",
       "      <td>Supply and use</td>\n",
       "      <td>Barley</td>\n",
       "      <td>0.8</td>\n",
       "      <td>United States</td>\n",
       "      <td>Barley</td>\n",
       "      <td>Planted acreage</td>\n",
       "      <td>Million acres</td>\n",
       "      <td>1930</td>\n",
       "      <td>Annual</td>\n",
       "      <td>Commodity Market Year</td>\n",
       "      <td>13.581</td>\n",
       "    </tr>\n",
       "  </tbody>\n",
       "</table>\n",
       "</div>"
      ],
      "text/plain": [
       "    SC_Group_Desc SC_GroupCommod_Desc  SortOrder SC_GeographyIndented_Desc  \\\n",
       "0  Supply and use              Barley        0.8             United States   \n",
       "1  Supply and use              Barley        0.8             United States   \n",
       "2  Supply and use              Barley        0.8             United States   \n",
       "3  Supply and use              Barley        0.8             United States   \n",
       "4  Supply and use              Barley        0.8             United States   \n",
       "\n",
       "  SC_Commodity_Desc SC_Attribute_Desc   SC_Unit_Desc  Year_ID  \\\n",
       "0            Barley   Planted acreage  Million acres     1926   \n",
       "1            Barley   Planted acreage  Million acres     1927   \n",
       "2            Barley   Planted acreage  Million acres     1928   \n",
       "3            Barley   Planted acreage  Million acres     1929   \n",
       "4            Barley   Planted acreage  Million acres     1930   \n",
       "\n",
       "  SC_Frequency_Desc        Timeperiod_Desc  Amount  \n",
       "0            Annual  Commodity Market Year   8.796  \n",
       "1            Annual  Commodity Market Year   9.513  \n",
       "2            Annual  Commodity Market Year  12.828  \n",
       "3            Annual  Commodity Market Year  14.703  \n",
       "4            Annual  Commodity Market Year  13.581  "
      ]
     },
     "execution_count": 8,
     "metadata": {},
     "output_type": "execute_result"
    }
   ],
   "source": [
    "del df['SC_Group_ID']\n",
    "del df['SC_GroupCommod_ID']\n",
    "del df['SortOrder']\n",
    "del df['SC_Geography_ID']\n",
    "del df['SC_Commodity_ID']\n",
    "del df['SC_Attribute_ID']\n",
    "del df['SC_Unit_ID']\n",
    "del df['SC_Frequency_ID']\n",
    "del df['Timeperiod_ID']\n",
    "df.head()"
   ]
  },
  {
   "cell_type": "markdown",
   "metadata": {},
   "source": [
    "You can see that the table is much cleaner, now that there are no more duplicate columns. Also note that you can only run the above code once on the dataframe. Running it more times will result in an error since the columns can't be found, as they have already been deleted. \n",
    "\n",
    "Now that we have cleared the duplicate columns, lets rename the columns to be more descriptive and intuitive for our purposes. You can use the following line to manually change the column names.\n"
   ]
  },
  {
   "cell_type": "code",
   "execution_count": null,
   "metadata": {
    "collapsed": true
   },
   "outputs": [],
   "source": [
    "df.columns = ['Group', 'Grain_Group', '', 'GrainGroup_Desc', 'Geography']"
   ]
  },
  {
   "cell_type": "markdown",
   "metadata": {},
   "source": [
    "\n",
    "\n",
    "The first line printed shows a tuple of (rows, columns). There are over 400,000 rows of data which is enormous if we are going to parse. Due to data size constraints, we will be only looking at the grain data in the United States. After loading the data, we will continue by filtering out any data not from the US. Run the following command which will look at the column *SC_GeographyIndented_Desc* and keep only the rows that say \"United States\"."
   ]
  },
  {
   "cell_type": "code",
   "execution_count": null,
   "metadata": {},
   "outputs": [],
   "source": [
    "df_us = df[df.SC_GeographyIndented_Desc.isin(['United States'])]\n",
    "print(df_us.shape)\n",
    "df_us.head()"
   ]
  },
  {
   "cell_type": "markdown",
   "metadata": {},
   "source": [
    "You can see that now the number of rows has decreased from over 400,000 to just a little over 40,000. "
   ]
  },
  {
   "cell_type": "markdown",
   "metadata": {},
   "source": [
    "## Corn, Sorghum, Barley, and Oats\n",
    "\n",
    "### Corn\n",
    "We start by selecting only the data rows that contain Corn "
   ]
  },
  {
   "cell_type": "code",
   "execution_count": null,
   "metadata": {
    "scrolled": true
   },
   "outputs": [],
   "source": [
    "df_ppr[df_ppr.SC_GroupCommod_Desc.isin(['Corn'])]"
   ]
  },
  {
   "cell_type": "markdown",
   "metadata": {},
   "source": [
    "## Summary and references\n",
    "\n",
    "This tutorial ____________________________________________.\n",
    "\n",
    "Data source: https://www.ers.usda.gov/data-products/feed-grains-database/feed-grains-yearbook-tables.aspx\n"
   ]
  }
 ],
 "metadata": {
  "kernelspec": {
   "display_name": "Python 3",
   "language": "python",
   "name": "python3"
  },
  "language_info": {
   "codemirror_mode": {
    "name": "ipython",
    "version": 3
   },
   "file_extension": ".py",
   "mimetype": "text/x-python",
   "name": "python",
   "nbconvert_exporter": "python",
   "pygments_lexer": "ipython3",
   "version": "3.6.0"
  }
 },
 "nbformat": 4,
 "nbformat_minor": 2
}
